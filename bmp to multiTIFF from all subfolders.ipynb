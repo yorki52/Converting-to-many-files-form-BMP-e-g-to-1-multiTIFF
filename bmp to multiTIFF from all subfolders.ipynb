{
 "cells": [
  {
   "cell_type": "code",
   "execution_count": 1,
   "metadata": {},
   "outputs": [
    {
     "name": "stderr",
     "output_type": "stream",
     "text": [
      "100%|██████████████████████████████████████████████████████████████████████████████| 1200/1200 [01:29<00:00, 13.37it/s]\n",
      "100%|█████████████████████████████████████████████████████████████████████████████| 1200/1200 [00:05<00:00, 218.77it/s]\n",
      "100%|██████████████████████████████████████████████████████████████████████████████| 1200/1200 [04:36<00:00,  4.34it/s]\n",
      "100%|█████████████████████████████████████████████████████████████████████████████| 1200/1200 [00:06<00:00, 174.29it/s]\n",
      "100%|██████████████████████████████████████████████████████████████████████████████| 1200/1200 [04:21<00:00,  4.59it/s]\n",
      "100%|█████████████████████████████████████████████████████████████████████████████| 1200/1200 [00:05<00:00, 204.46it/s]\n"
     ]
    }
   ],
   "source": [
    "from PIL import features\n",
    "import numpy as np\n",
    "from PIL import Image\n",
    "from scipy import misc\n",
    "import glob, os\n",
    "from tqdm import tqdm  \n",
    "import pytiff\n",
    "import tifftools\n",
    "import os.path\n",
    "\n",
    "ad = []\n",
    "for address, dirs, files in os.walk('E:/Epilepsy/epilepsy(surmine_mcpg)'):             #parent folder with subfolders\n",
    "    for name in files:\n",
    "        ad.append(os.path.join(address))\n",
    "ad2 = [ad[i] for i in range(len(ad)) if i == ad.index(ad[i])]                          #ALL FOLDERS in parent\n",
    "for i in range(len(ad2)):\n",
    "    ad2[i] = ad2[i].replace('\\\\' , '/') \n",
    "for i in ad2:\n",
    "    os.chdir(i)\n",
    "    if glob.glob(\"*.bmp\") != []:                          #find folders only with bmp.files(e.g.)\n",
    "        I = i                                               \n",
    "        data_path = I + '/'\n",
    "        a,b,c = [],[],[]                                   \n",
    "        os.chdir(data_path)\n",
    "        for file in glob.glob(\"*.bmp\"):\n",
    "            a.append(data_path+file)                       #list of bmp files in folder\n",
    "\n",
    "        for i in tqdm(range(len(a))):\n",
    "            img = Image.open(a[i]).convert('RGB')\n",
    "            img.save(a[i]+'.tiff', format='TIFF', compression='tiff_lzw')        #converting bmp to tiff\n",
    "        for file in glob.glob(\"*.tiff\"):\n",
    "            b.append(data_path+file)                        #create list with changed TIFF files\n",
    "        data = data_path.split('/')                         #split name of experiments\n",
    "        data[-2]                                            #choose name of experiments for each file\n",
    "        in0 = tifftools.read_tiff(b[0])\n",
    "        for i in tqdm(range(len(b))):\n",
    "            in2= tifftools.read_tiff(b[i])\n",
    "            in0['ifds'].extend(in2['ifds'])\n",
    "        tifftools.write_tiff(in0, data[-2] + '.tiff')       #safe multi tiff files in 1 multiTiff\n",
    "        for file in glob.glob(\"*.bmp.tiff\"):\n",
    "            os.remove(data_path+file)                       #deleting all unnecessery tiff files\n",
    "        for file in glob.glob('*.bmp'):\n",
    "            os.remove(data_path+file)                       #deleting old bmp files"
   ]
  },
  {
   "cell_type": "code",
   "execution_count": null,
   "metadata": {},
   "outputs": [],
   "source": []
  }
 ],
 "metadata": {
  "kernelspec": {
   "display_name": "Python 3",
   "language": "python",
   "name": "python3"
  },
  "language_info": {
   "codemirror_mode": {
    "name": "ipython",
    "version": 3
   },
   "file_extension": ".py",
   "mimetype": "text/x-python",
   "name": "python",
   "nbconvert_exporter": "python",
   "pygments_lexer": "ipython3",
   "version": "3.7.6"
  }
 },
 "nbformat": 4,
 "nbformat_minor": 4
}
